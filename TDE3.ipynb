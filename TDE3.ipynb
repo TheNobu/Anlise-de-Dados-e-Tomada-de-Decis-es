{
  "nbformat": 4,
  "nbformat_minor": 0,
  "metadata": {
    "colab": {
      "provenance": [],
      "authorship_tag": "ABX9TyNisj5k9X5y1kvS6TiGiOm2",
      "include_colab_link": true
    },
    "kernelspec": {
      "name": "python3",
      "display_name": "Python 3"
    },
    "language_info": {
      "name": "python"
    }
  },
  "cells": [
    {
      "cell_type": "markdown",
      "metadata": {
        "id": "view-in-github",
        "colab_type": "text"
      },
      "source": [
        "<a href=\"https://colab.research.google.com/github/TheNobu/Anlise-de-Dados-e-Tomada-de-Decis-es/blob/main/TDE3.ipynb\" target=\"_parent\"><img src=\"https://colab.research.google.com/assets/colab-badge.svg\" alt=\"Open In Colab\"/></a>"
      ]
    },
    {
      "cell_type": "code",
      "execution_count": 42,
      "metadata": {
        "id": "3mH3UImLB_g_"
      },
      "outputs": [],
      "source": [
        "import pandas as pd\n",
        "df = pd.read_csv('natacao.csv');"
      ]
    },
    {
      "cell_type": "code",
      "source": [
        "df.info()"
      ],
      "metadata": {
        "colab": {
          "base_uri": "https://localhost:8080/"
        },
        "id": "jgzxFccZCm_H",
        "outputId": "d790f097-b36b-45ae-cb11-250a54700737"
      },
      "execution_count": 11,
      "outputs": [
        {
          "output_type": "stream",
          "name": "stdout",
          "text": [
            "<class 'pandas.core.frame.DataFrame'>\n",
            "RangeIndex: 4359 entries, 0 to 4358\n",
            "Data columns (total 10 columns):\n",
            " #   Column        Non-Null Count  Dtype \n",
            "---  ------        --------------  ----- \n",
            " 0   Sede          4359 non-null   object\n",
            " 1   Ano           4359 non-null   int64 \n",
            " 2   Distancia     4359 non-null   object\n",
            " 3   Estilo        4359 non-null   object\n",
            " 4   Revesamento?  4359 non-null   int64 \n",
            " 5   Genero        4359 non-null   object\n",
            " 6   Equipe        4359 non-null   object\n",
            " 7   Atleta        4345 non-null   object\n",
            " 8   Tempo         4331 non-null   object\n",
            " 9   Posicao       4359 non-null   int64 \n",
            "dtypes: int64(3), object(7)\n",
            "memory usage: 340.7+ KB\n"
          ]
        }
      ]
    },
    {
      "cell_type": "markdown",
      "source": [
        "1- As variaveis de estatisticas são = \n",
        "\n",
        " Sede: Categórico , Ano: Continuas, Distancia: Continuas , Estilo: Categorico, Revesamento: Continuas, Genero: Categorico, Equipe: Categorica , Atleta: Categorica, Tempo: Continuas, Posicao: Ordinais."
      ],
      "metadata": {
        "id": "uGfNxCLpDDLw"
      }
    },
    {
      "cell_type": "code",
      "source": [
        "df.mean()"
      ],
      "metadata": {
        "colab": {
          "base_uri": "https://localhost:8080/"
        },
        "id": "erMIUrj5HTkT",
        "outputId": "7ec31ccb-20b2-423e-fbb5-1a0d622de9ed"
      },
      "execution_count": 10,
      "outputs": [
        {
          "output_type": "stream",
          "name": "stderr",
          "text": [
            "<ipython-input-10-c61f0c8f89b5>:1: FutureWarning: The default value of numeric_only in DataFrame.mean is deprecated. In a future version, it will default to False. In addition, specifying 'numeric_only=None' is deprecated. Select only valid columns or specify the value of numeric_only to silence this warning.\n",
            "  df.mean()\n"
          ]
        },
        {
          "output_type": "execute_result",
          "data": {
            "text/plain": [
              "Ano             1982.936453\n",
              "Revesamento?       0.169764\n",
              "Posicao            3.164946\n",
              "dtype: float64"
            ]
          },
          "metadata": {},
          "execution_count": 10
        }
      ]
    },
    {
      "cell_type": "code",
      "source": [
        "df.value_counts('Posicao')"
      ],
      "metadata": {
        "colab": {
          "base_uri": "https://localhost:8080/"
        },
        "id": "BvIKLtZ1JfGd",
        "outputId": "a5cdaf66-458d-4573-84f7-ca3ec0ec162c"
      },
      "execution_count": 31,
      "outputs": [
        {
          "output_type": "execute_result",
          "data": {
            "text/plain": [
              "Posicao\n",
              "4    2582\n",
              "3     566\n",
              "2     548\n",
              "1     534\n",
              "0     101\n",
              "5      28\n",
              "dtype: int64"
            ]
          },
          "metadata": {},
          "execution_count": 31
        }
      ]
    },
    {
      "cell_type": "markdown",
      "source": [
        "2 - Posição seria usada a Moda, e no Ano seria a mediana"
      ],
      "metadata": {
        "id": "HylsWbReRheR"
      }
    },
    {
      "cell_type": "code",
      "source": [
        "atletaMaculino = df[df['Genero'] == 'Masculino']\n",
        "\n",
        "atletaMaculino.value_counts('Atleta')"
      ],
      "metadata": {
        "colab": {
          "base_uri": "https://localhost:8080/"
        },
        "id": "SnAvrFIFNi-z",
        "outputId": "93cb04ca-53fc-44df-da1d-db5f8b99f8d2"
      },
      "execution_count": 58,
      "outputs": [
        {
          "output_type": "execute_result",
          "data": {
            "text/plain": [
              "Atleta\n",
              "Michael Phelps                                                                         18\n",
              "Laszlo Cseh                                                                            10\n",
              "Ryan Lochte                                                                             9\n",
              "Pieter Van Den Hoogenband                                                               8\n",
              "Grant Hackett                                                                           8\n",
              "                                                                                       ..\n",
              "Igor Grivennikov, Viktor Mazanov, Vladimir Bure, Aleksandr Samsonov, Viktor Aboimov     1\n",
              "Igor Chervynskiy                                                                        1\n",
              "Igor Cherdakov                                                                          1\n",
              "Ian Wilson                                                                              1\n",
              "Émile Thienpondt                                                                        1\n",
              "Length: 1504, dtype: int64"
            ]
          },
          "metadata": {},
          "execution_count": 58
        }
      ]
    },
    {
      "cell_type": "markdown",
      "source": [
        "3- O atleta que teve maior participação foi Michel Phelps"
      ],
      "metadata": {
        "id": "3RzdvCsUUQJb"
      }
    },
    {
      "cell_type": "code",
      "source": [
        "atletaFeminino = df.loc[df['Genero'] == 'Feminino']\n",
        "\n",
        "atletaFeminino.value_counts('Atleta')"
      ],
      "metadata": {
        "colab": {
          "base_uri": "https://localhost:8080/"
        },
        "id": "SN1dutViUcI9",
        "outputId": "43cdd0b2-6bf8-44f0-96be-e08d6aa6e949"
      },
      "execution_count": 59,
      "outputs": [
        {
          "output_type": "execute_result",
          "data": {
            "text/plain": [
              "Atleta\n",
              "Kirsty Leigh Coventry                                                               10\n",
              "Katie Ledecky                                                                        9\n",
              "Susan O'Neill                                                                        8\n",
              "Conny Van Bentum                                                                     8\n",
              "Shirley Farber Babashoff                                                             7\n",
              "                                                                                    ..\n",
              "Jenny Wylie                                                                          1\n",
              "Jess Lloyd, Rebecca Turner, Amy Smith, Caitlin Mcclatchey, Francesca Halsall         1\n",
              "Jessica Ashwood, Bronte Barratt, Emma Mckeon, Tamsin Cook, Leah Neale                1\n",
              "Jessica Deglau                                                                       1\n",
              "Zsuzsanna Jakabos, Evelin Verraszto, Ajna Kesely, Boglarka Kapas, Katinka Hosszu     1\n",
              "Length: 1317, dtype: int64"
            ]
          },
          "metadata": {},
          "execution_count": 59
        }
      ]
    },
    {
      "cell_type": "markdown",
      "source": [
        "4- A atleta que teve a maior participação foi Kirsty Leigh Coventry"
      ],
      "metadata": {
        "id": "cvISvEUpU6V9"
      }
    },
    {
      "cell_type": "code",
      "source": [
        "df.head()"
      ],
      "metadata": {
        "colab": {
          "base_uri": "https://localhost:8080/",
          "height": 206
        },
        "id": "0Hdb7yB8VR_X",
        "outputId": "459c7236-fb36-4094-bce5-6560b615fa69"
      },
      "execution_count": 60,
      "outputs": [
        {
          "output_type": "execute_result",
          "data": {
            "text/plain": [
              "    Sede   Ano Distancia  Estilo  Revesamento?     Genero Equipe  \\\n",
              "0  Tokyo  2020      100m  Costas             0  Masculino    ROC   \n",
              "1  Tokyo  2020      100m  Costas             0  Masculino    ROC   \n",
              "2  Tokyo  2020      100m  Costas             0  Masculino    USA   \n",
              "3  Tokyo  2020      100m  Costas             0  Masculino    ITA   \n",
              "4  Tokyo  2020      100m  Costas             0  Masculino    CHN   \n",
              "\n",
              "               Atleta  Tempo  Posicao  \n",
              "0        Evgeny Rylov  51.98        1  \n",
              "1  Kliment Kolesnikov     52        2  \n",
              "2         Ryan Murphy  52.19        3  \n",
              "3       Thomas Ceccon   52.3        4  \n",
              "4            Jiayu Xu  52.51        4  "
            ],
            "text/html": [
              "\n",
              "  <div id=\"df-f39940c0-5469-4bc4-b553-e3d23d947ff3\">\n",
              "    <div class=\"colab-df-container\">\n",
              "      <div>\n",
              "<style scoped>\n",
              "    .dataframe tbody tr th:only-of-type {\n",
              "        vertical-align: middle;\n",
              "    }\n",
              "\n",
              "    .dataframe tbody tr th {\n",
              "        vertical-align: top;\n",
              "    }\n",
              "\n",
              "    .dataframe thead th {\n",
              "        text-align: right;\n",
              "    }\n",
              "</style>\n",
              "<table border=\"1\" class=\"dataframe\">\n",
              "  <thead>\n",
              "    <tr style=\"text-align: right;\">\n",
              "      <th></th>\n",
              "      <th>Sede</th>\n",
              "      <th>Ano</th>\n",
              "      <th>Distancia</th>\n",
              "      <th>Estilo</th>\n",
              "      <th>Revesamento?</th>\n",
              "      <th>Genero</th>\n",
              "      <th>Equipe</th>\n",
              "      <th>Atleta</th>\n",
              "      <th>Tempo</th>\n",
              "      <th>Posicao</th>\n",
              "    </tr>\n",
              "  </thead>\n",
              "  <tbody>\n",
              "    <tr>\n",
              "      <th>0</th>\n",
              "      <td>Tokyo</td>\n",
              "      <td>2020</td>\n",
              "      <td>100m</td>\n",
              "      <td>Costas</td>\n",
              "      <td>0</td>\n",
              "      <td>Masculino</td>\n",
              "      <td>ROC</td>\n",
              "      <td>Evgeny Rylov</td>\n",
              "      <td>51.98</td>\n",
              "      <td>1</td>\n",
              "    </tr>\n",
              "    <tr>\n",
              "      <th>1</th>\n",
              "      <td>Tokyo</td>\n",
              "      <td>2020</td>\n",
              "      <td>100m</td>\n",
              "      <td>Costas</td>\n",
              "      <td>0</td>\n",
              "      <td>Masculino</td>\n",
              "      <td>ROC</td>\n",
              "      <td>Kliment Kolesnikov</td>\n",
              "      <td>52</td>\n",
              "      <td>2</td>\n",
              "    </tr>\n",
              "    <tr>\n",
              "      <th>2</th>\n",
              "      <td>Tokyo</td>\n",
              "      <td>2020</td>\n",
              "      <td>100m</td>\n",
              "      <td>Costas</td>\n",
              "      <td>0</td>\n",
              "      <td>Masculino</td>\n",
              "      <td>USA</td>\n",
              "      <td>Ryan Murphy</td>\n",
              "      <td>52.19</td>\n",
              "      <td>3</td>\n",
              "    </tr>\n",
              "    <tr>\n",
              "      <th>3</th>\n",
              "      <td>Tokyo</td>\n",
              "      <td>2020</td>\n",
              "      <td>100m</td>\n",
              "      <td>Costas</td>\n",
              "      <td>0</td>\n",
              "      <td>Masculino</td>\n",
              "      <td>ITA</td>\n",
              "      <td>Thomas Ceccon</td>\n",
              "      <td>52.3</td>\n",
              "      <td>4</td>\n",
              "    </tr>\n",
              "    <tr>\n",
              "      <th>4</th>\n",
              "      <td>Tokyo</td>\n",
              "      <td>2020</td>\n",
              "      <td>100m</td>\n",
              "      <td>Costas</td>\n",
              "      <td>0</td>\n",
              "      <td>Masculino</td>\n",
              "      <td>CHN</td>\n",
              "      <td>Jiayu Xu</td>\n",
              "      <td>52.51</td>\n",
              "      <td>4</td>\n",
              "    </tr>\n",
              "  </tbody>\n",
              "</table>\n",
              "</div>\n",
              "      <button class=\"colab-df-convert\" onclick=\"convertToInteractive('df-f39940c0-5469-4bc4-b553-e3d23d947ff3')\"\n",
              "              title=\"Convert this dataframe to an interactive table.\"\n",
              "              style=\"display:none;\">\n",
              "        \n",
              "  <svg xmlns=\"http://www.w3.org/2000/svg\" height=\"24px\"viewBox=\"0 0 24 24\"\n",
              "       width=\"24px\">\n",
              "    <path d=\"M0 0h24v24H0V0z\" fill=\"none\"/>\n",
              "    <path d=\"M18.56 5.44l.94 2.06.94-2.06 2.06-.94-2.06-.94-.94-2.06-.94 2.06-2.06.94zm-11 1L8.5 8.5l.94-2.06 2.06-.94-2.06-.94L8.5 2.5l-.94 2.06-2.06.94zm10 10l.94 2.06.94-2.06 2.06-.94-2.06-.94-.94-2.06-.94 2.06-2.06.94z\"/><path d=\"M17.41 7.96l-1.37-1.37c-.4-.4-.92-.59-1.43-.59-.52 0-1.04.2-1.43.59L10.3 9.45l-7.72 7.72c-.78.78-.78 2.05 0 2.83L4 21.41c.39.39.9.59 1.41.59.51 0 1.02-.2 1.41-.59l7.78-7.78 2.81-2.81c.8-.78.8-2.07 0-2.86zM5.41 20L4 18.59l7.72-7.72 1.47 1.35L5.41 20z\"/>\n",
              "  </svg>\n",
              "      </button>\n",
              "      \n",
              "  <style>\n",
              "    .colab-df-container {\n",
              "      display:flex;\n",
              "      flex-wrap:wrap;\n",
              "      gap: 12px;\n",
              "    }\n",
              "\n",
              "    .colab-df-convert {\n",
              "      background-color: #E8F0FE;\n",
              "      border: none;\n",
              "      border-radius: 50%;\n",
              "      cursor: pointer;\n",
              "      display: none;\n",
              "      fill: #1967D2;\n",
              "      height: 32px;\n",
              "      padding: 0 0 0 0;\n",
              "      width: 32px;\n",
              "    }\n",
              "\n",
              "    .colab-df-convert:hover {\n",
              "      background-color: #E2EBFA;\n",
              "      box-shadow: 0px 1px 2px rgba(60, 64, 67, 0.3), 0px 1px 3px 1px rgba(60, 64, 67, 0.15);\n",
              "      fill: #174EA6;\n",
              "    }\n",
              "\n",
              "    [theme=dark] .colab-df-convert {\n",
              "      background-color: #3B4455;\n",
              "      fill: #D2E3FC;\n",
              "    }\n",
              "\n",
              "    [theme=dark] .colab-df-convert:hover {\n",
              "      background-color: #434B5C;\n",
              "      box-shadow: 0px 1px 3px 1px rgba(0, 0, 0, 0.15);\n",
              "      filter: drop-shadow(0px 1px 2px rgba(0, 0, 0, 0.3));\n",
              "      fill: #FFFFFF;\n",
              "    }\n",
              "  </style>\n",
              "\n",
              "      <script>\n",
              "        const buttonEl =\n",
              "          document.querySelector('#df-f39940c0-5469-4bc4-b553-e3d23d947ff3 button.colab-df-convert');\n",
              "        buttonEl.style.display =\n",
              "          google.colab.kernel.accessAllowed ? 'block' : 'none';\n",
              "\n",
              "        async function convertToInteractive(key) {\n",
              "          const element = document.querySelector('#df-f39940c0-5469-4bc4-b553-e3d23d947ff3');\n",
              "          const dataTable =\n",
              "            await google.colab.kernel.invokeFunction('convertToInteractive',\n",
              "                                                     [key], {});\n",
              "          if (!dataTable) return;\n",
              "\n",
              "          const docLinkHtml = 'Like what you see? Visit the ' +\n",
              "            '<a target=\"_blank\" href=https://colab.research.google.com/notebooks/data_table.ipynb>data table notebook</a>'\n",
              "            + ' to learn more about interactive tables.';\n",
              "          element.innerHTML = '';\n",
              "          dataTable['output_type'] = 'display_data';\n",
              "          await google.colab.output.renderOutput(dataTable, element);\n",
              "          const docLink = document.createElement('div');\n",
              "          docLink.innerHTML = docLinkHtml;\n",
              "          element.appendChild(docLink);\n",
              "        }\n",
              "      </script>\n",
              "    </div>\n",
              "  </div>\n",
              "  "
            ]
          },
          "metadata": {},
          "execution_count": 60
        }
      ]
    },
    {
      "cell_type": "code",
      "source": [
        "posicao3 = df[df['Posicao'] == 3]\n",
        "\n",
        "posicao3.value_counts('Equipe')"
      ],
      "metadata": {
        "colab": {
          "base_uri": "https://localhost:8080/"
        },
        "id": "eFXR4U3HVbTK",
        "outputId": "7835c2f4-8c04-4b77-ca62-bd937e0bef14"
      },
      "execution_count": 73,
      "outputs": [
        {
          "output_type": "execute_result",
          "data": {
            "text/plain": [
              "Equipe\n",
              "USA              138\n",
              "AUS               70\n",
              "GER               40\n",
              "JPN               31\n",
              "GBR               30\n",
              "CAN               28\n",
              "GDR               21\n",
              "URS               19\n",
              "HUN               19\n",
              "SWE               17\n",
              "NED               16\n",
              "FRA               16\n",
              "ITA               14\n",
              "CHN               12\n",
              "RUS               10\n",
              "BRA                9\n",
              "NLD                7\n",
              "FRG                7\n",
              "RSA                6\n",
              "SUN                6\n",
              "DEN                6\n",
              "ESP                4\n",
              "ROU                4\n",
              "NZL                3\n",
              "FIN                3\n",
              "PHI                2\n",
              "SUI                2\n",
              "ZAF                2\n",
              "POL                2\n",
              "ANZ                2\n",
              "UKR                2\n",
              "CRC                2\n",
              "Unified Team       1\n",
              "TTO                1\n",
              "VEN                1\n",
              "TUN                1\n",
              "SUR                1\n",
              "MEX                1\n",
              "ROC                1\n",
              "NOR                1\n",
              "ARG                1\n",
              "IRL                1\n",
              "CUB                1\n",
              "BUL                1\n",
              "BLR                1\n",
              "BEL                1\n",
              "AUT                1\n",
              "ZIM                1\n",
              "dtype: int64"
            ]
          },
          "metadata": {},
          "execution_count": 73
        }
      ]
    },
    {
      "cell_type": "markdown",
      "source": [
        "5 - A equipe que teve masi medalha de bronze foi USA"
      ],
      "metadata": {
        "id": "IL01K_CGXXuX"
      }
    },
    {
      "cell_type": "code",
      "source": [
        "df.info()"
      ],
      "metadata": {
        "colab": {
          "base_uri": "https://localhost:8080/"
        },
        "id": "nInCYGj8YNcB",
        "outputId": "50051326-827e-499b-c34c-95207f333b24"
      },
      "execution_count": 75,
      "outputs": [
        {
          "output_type": "stream",
          "name": "stdout",
          "text": [
            "<class 'pandas.core.frame.DataFrame'>\n",
            "RangeIndex: 4359 entries, 0 to 4358\n",
            "Data columns (total 10 columns):\n",
            " #   Column        Non-Null Count  Dtype \n",
            "---  ------        --------------  ----- \n",
            " 0   Sede          4359 non-null   object\n",
            " 1   Ano           4359 non-null   int64 \n",
            " 2   Distancia     4359 non-null   object\n",
            " 3   Estilo        4359 non-null   object\n",
            " 4   Revesamento?  4359 non-null   int64 \n",
            " 5   Genero        4359 non-null   object\n",
            " 6   Equipe        4359 non-null   object\n",
            " 7   Atleta        4345 non-null   object\n",
            " 8   Tempo         4331 non-null   object\n",
            " 9   Posicao       4359 non-null   int64 \n",
            "dtypes: int64(3), object(7)\n",
            "memory usage: 340.7+ KB\n"
          ]
        }
      ]
    },
    {
      "cell_type": "markdown",
      "source": [
        "6-"
      ],
      "metadata": {
        "id": "gBZlKFKTdVdB"
      }
    },
    {
      "cell_type": "code",
      "source": [
        "df['Distancia']= df['Distancia'].str.replace('m','')\n",
        "df['Distancia']= df['Distancia'].str.replace('4x100','400')\n",
        "df['Distancia']= df['Distancia'].str.replace('4x200','800')"
      ],
      "metadata": {
        "id": "S0B8-zzXZP8Q"
      },
      "execution_count": 94,
      "outputs": []
    },
    {
      "cell_type": "code",
      "source": [
        "df['Distancia'] = df['Distancia'].astype('int64')"
      ],
      "metadata": {
        "id": "sYw9jnwzb492"
      },
      "execution_count": 96,
      "outputs": []
    },
    {
      "cell_type": "code",
      "source": [
        "df.info()\n",
        "     "
      ],
      "metadata": {
        "colab": {
          "base_uri": "https://localhost:8080/"
        },
        "id": "_KjrCaK4X5r9",
        "outputId": "036da5ac-57a8-4181-f367-ced890f614f9"
      },
      "execution_count": 97,
      "outputs": [
        {
          "output_type": "stream",
          "name": "stdout",
          "text": [
            "<class 'pandas.core.frame.DataFrame'>\n",
            "RangeIndex: 4359 entries, 0 to 4358\n",
            "Data columns (total 10 columns):\n",
            " #   Column        Non-Null Count  Dtype \n",
            "---  ------        --------------  ----- \n",
            " 0   Sede          4359 non-null   object\n",
            " 1   Ano           4359 non-null   int64 \n",
            " 2   Distancia     4359 non-null   int64 \n",
            " 3   Estilo        4359 non-null   object\n",
            " 4   Revesamento?  4359 non-null   int64 \n",
            " 5   Genero        4359 non-null   object\n",
            " 6   Equipe        4359 non-null   object\n",
            " 7   Atleta        4345 non-null   object\n",
            " 8   Tempo         4331 non-null   object\n",
            " 9   Posicao       4359 non-null   int64 \n",
            "dtypes: int64(4), object(6)\n",
            "memory usage: 340.7+ KB\n"
          ]
        }
      ]
    },
    {
      "cell_type": "code",
      "source": [
        "df['Distancia'].mean()"
      ],
      "metadata": {
        "colab": {
          "base_uri": "https://localhost:8080/"
        },
        "id": "69C6xSZmcXxc",
        "outputId": "82ab0455-cb90-443b-b3d5-d4e2ceb66bc1"
      },
      "execution_count": 101,
      "outputs": [
        {
          "output_type": "execute_result",
          "data": {
            "text/plain": [
              "328.722183987153"
            ]
          },
          "metadata": {},
          "execution_count": 101
        }
      ]
    },
    {
      "cell_type": "code",
      "source": [
        "df['ClassificacaoDistancia'] = df['Distancia'] <= 200 = 'Curta'"
      ],
      "metadata": {
        "id": "JGYoFVgMdcJq"
      },
      "execution_count": null,
      "outputs": []
    }
  ]
}